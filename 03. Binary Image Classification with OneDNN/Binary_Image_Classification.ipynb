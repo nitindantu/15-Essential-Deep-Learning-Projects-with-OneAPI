{
 "cells": [
  {
   "cell_type": "code",
   "execution_count": 53,
   "id": "a807fb3d-1571-4a74-a266-d09c38579d2b",
   "metadata": {},
   "outputs": [
    {
     "name": "stdout",
     "output_type": "stream",
     "text": [
      "Found 907 images belonging to 2 classes.\n",
      "Found 907 images belonging to 2 classes.\n",
      "Found 907 images belonging to 2 classes.\n",
      "Epoch 1/10\n",
      "29/29 [==============================] - 42s 1s/step - loss: 1.2423 - accuracy: 0.5292 - val_loss: 0.6901 - val_accuracy: 0.5413\n",
      "Epoch 2/10\n",
      "29/29 [==============================] - 39s 1s/step - loss: 0.6910 - accuracy: 0.5413 - val_loss: 0.6813 - val_accuracy: 0.5557\n",
      "Epoch 3/10\n",
      "29/29 [==============================] - 36s 1s/step - loss: 0.6855 - accuracy: 0.5579 - val_loss: 0.6782 - val_accuracy: 0.5568\n",
      "Epoch 4/10\n",
      "29/29 [==============================] - 41s 1s/step - loss: 0.6829 - accuracy: 0.5667 - val_loss: 0.6648 - val_accuracy: 0.6196\n",
      "Epoch 5/10\n",
      "29/29 [==============================] - 40s 1s/step - loss: 0.6583 - accuracy: 0.6340 - val_loss: 0.6129 - val_accuracy: 0.6924\n",
      "Epoch 6/10\n",
      "29/29 [==============================] - 38s 1s/step - loss: 0.6262 - accuracy: 0.6703 - val_loss: 0.5496 - val_accuracy: 0.7376\n",
      "Epoch 7/10\n",
      "29/29 [==============================] - 40s 1s/step - loss: 0.5863 - accuracy: 0.6968 - val_loss: 0.5380 - val_accuracy: 0.7056\n",
      "Epoch 8/10\n",
      "29/29 [==============================] - 37s 1s/step - loss: 0.5804 - accuracy: 0.7155 - val_loss: 0.5218 - val_accuracy: 0.7530\n",
      "Epoch 9/10\n",
      "29/29 [==============================] - 40s 1s/step - loss: 0.5719 - accuracy: 0.6858 - val_loss: 0.4887 - val_accuracy: 0.7596\n",
      "Epoch 10/10\n",
      "29/29 [==============================] - 39s 1s/step - loss: 0.5162 - accuracy: 0.7310 - val_loss: 0.5015 - val_accuracy: 0.7508\n",
      "29/29 [==============================] - 7s 243ms/step - loss: 0.5015 - accuracy: 0.7508\n",
      "Test accuracy: 0.750826895236969\n"
     ]
    }
   ],
   "source": [
    "import os\n",
    "\n",
    "import tensorflow as tf\n",
    "from tensorflow.keras.preprocessing.image import ImageDataGenerator\n",
    "\n",
    "# Define data generators for train, validation, and test sets\n",
    "train_datagen = ImageDataGenerator(rescale=1./255,\n",
    "                                   shear_range=0.2,\n",
    "                                   zoom_range=0.2,\n",
    "                                   horizontal_flip=True)\n",
    "\n",
    "val_datagen = ImageDataGenerator(rescale=1./255)\n",
    "\n",
    "test_datagen = ImageDataGenerator(rescale=1./255)\n",
    "\n",
    "train_generator = train_datagen.flow_from_directory('./train',\n",
    "                                                    target_size=(224, 224),\n",
    "                                                    batch_size=32,\n",
    "                                                    class_mode='binary')\n",
    "\n",
    "val_generator = val_datagen.flow_from_directory('./val',\n",
    "                                                target_size=(224, 224),\n",
    "                                                batch_size=32,\n",
    "                                                class_mode='binary')\n",
    "\n",
    "test_generator = test_datagen.flow_from_directory('./val',\n",
    "                                                  target_size=(224, 224),\n",
    "                                                  batch_size=32,\n",
    "                                                  class_mode='binary')\n",
    "\n",
    "# Define and compile the model\n",
    "model = tf.keras.Sequential([\n",
    "    tf.keras.layers.Conv2D(32, (3,3), activation='relu', input_shape=(224, 224, 3)),\n",
    "    tf.keras.layers.MaxPooling2D(2,2),\n",
    "    tf.keras.layers.Conv2D(64, (3,3), activation='relu'),\n",
    "    tf.keras.layers.MaxPooling2D(2,2),\n",
    "    tf.keras.layers.Conv2D(128, (3,3), activation='relu'),\n",
    "    tf.keras.layers.MaxPooling2D(2,2),\n",
    "    tf.keras.layers.Flatten(),\n",
    "    tf.keras.layers.Dense(512, activation='relu'),\n",
    "    tf.keras.layers.Dense(1, activation='sigmoid')\n",
    "])\n",
    "model.compile(loss='binary_crossentropy', optimizer='adam', metrics=['accuracy'])\n",
    "\n",
    "# Train the model\n",
    "history = model.fit(train_generator, epochs=10, validation_data=val_generator)\n",
    "\n",
    "# Evaluate the model on the test set\n",
    "test_loss, test_acc = model.evaluate(test_generator)\n",
    "print('Test accuracy:', test_acc)\n"
   ]
  },
  {
   "cell_type": "code",
   "execution_count": null,
   "id": "569efb68-35f7-48bb-9554-7035220e1eed",
   "metadata": {},
   "outputs": [],
   "source": []
  }
 ],
 "metadata": {
  "kernelspec": {
   "display_name": "Tensorflow (AI kit)",
   "language": "python",
   "name": "c009-intel_distribution_of_python_3_oneapi-beta05-tf"
  },
  "language_info": {
   "codemirror_mode": {
    "name": "ipython",
    "version": 3
   },
   "file_extension": ".py",
   "mimetype": "text/x-python",
   "name": "python",
   "nbconvert_exporter": "python",
   "pygments_lexer": "ipython3",
   "version": "3.9.15"
  }
 },
 "nbformat": 4,
 "nbformat_minor": 5
}
