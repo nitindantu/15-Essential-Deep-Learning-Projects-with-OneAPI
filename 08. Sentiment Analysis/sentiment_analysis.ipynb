{
  "nbformat": 4,
  "nbformat_minor": 0,
  "metadata": {
    "colab": {
      "provenance": []
    },
    "kernelspec": {
      "name": "python3",
      "display_name": "Python 3"
    },
    "language_info": {
      "name": "python"
    }
  },
  "cells": [
    {
      "cell_type": "code",
      "execution_count": 15,
      "metadata": {
        "colab": {
          "base_uri": "https://localhost:8080/"
        },
        "id": "2p3czSy0FjGQ",
        "outputId": "b1099621-8bb6-4df9-cbbd-7eceb3943ebb"
      },
      "outputs": [
        {
          "output_type": "stream",
          "name": "stdout",
          "text": [
            "Downloading data from https://storage.googleapis.com/tensorflow/tf-keras-datasets/imdb.npz\n",
            "17464789/17464789 [==============================] - 2s 0us/step\n",
            "Epoch 1/5\n",
            "782/782 [==============================] - 189s 239ms/step - loss: 0.4232 - accuracy: 0.8042 - val_loss: 0.3515 - val_accuracy: 0.8448\n",
            "Epoch 2/5\n",
            "782/782 [==============================] - 188s 240ms/step - loss: 0.2931 - accuracy: 0.8776 - val_loss: 0.3617 - val_accuracy: 0.8400\n",
            "Epoch 3/5\n",
            "782/782 [==============================] - 188s 240ms/step - loss: 0.2427 - accuracy: 0.9022 - val_loss: 0.3841 - val_accuracy: 0.8474\n",
            "Epoch 4/5\n",
            "782/782 [==============================] - 186s 238ms/step - loss: 0.1906 - accuracy: 0.9261 - val_loss: 0.4821 - val_accuracy: 0.8387\n",
            "Epoch 5/5\n",
            "782/782 [==============================] - 187s 239ms/step - loss: 0.1550 - accuracy: 0.9415 - val_loss: 0.4312 - val_accuracy: 0.8440\n",
            "782/782 [==============================] - 44s 57ms/step - loss: 0.4312 - accuracy: 0.8440\n",
            "Test Loss: 0.43116629123687744\n",
            "Test Accuracy: 0.8439599871635437\n"
          ]
        }
      ],
      "source": [
        "import numpy as np\n",
        "from keras.models import Sequential\n",
        "from keras.layers import LSTM, Dense, Embedding\n",
        "from keras.utils import pad_sequences\n",
        "from keras.datasets import imdb\n",
        "\n",
        "# Set random seed for reproducibility\n",
        "np.random.seed(42)\n",
        "\n",
        "# Load the IMDB dataset\n",
        "max_features = 5000  # Number of most frequent words to keep\n",
        "maxlen = 100  # Maximum sequence length\n",
        "(X_train, y_train), (X_test, y_test) = imdb.load_data(num_words=max_features)\n",
        "\n",
        "# Pad sequences to a fixed length\n",
        "X_train = pad_sequences(X_train, maxlen=maxlen)\n",
        "X_test = pad_sequences(X_test, maxlen=maxlen)\n",
        "\n",
        "# Build the LSTM model\n",
        "model = Sequential()\n",
        "model.add(Embedding(max_features, 128, input_length=maxlen))\n",
        "model.add(LSTM(128))\n",
        "model.add(Dense(1, activation='sigmoid'))\n",
        "\n",
        "# Compile the model\n",
        "model.compile(loss='binary_crossentropy', optimizer='adam', metrics=['accuracy'])\n",
        "\n",
        "# Train the model\n",
        "batch_size = 32\n",
        "epochs = 5\n",
        "model.fit(X_train, y_train, batch_size=batch_size, epochs=epochs, validation_data=(X_test, y_test))\n",
        "\n",
        "# Evaluate the model\n",
        "loss, accuracy = model.evaluate(X_test, y_test)\n",
        "print(\"Test Loss:\", loss)\n",
        "print(\"Test Accuracy:\", accuracy)\n"
      ]
    },
    {
      "cell_type": "code",
      "source": [],
      "metadata": {
        "id": "g27YvlJyIfhk"
      },
      "execution_count": null,
      "outputs": []
    }
  ]
}
