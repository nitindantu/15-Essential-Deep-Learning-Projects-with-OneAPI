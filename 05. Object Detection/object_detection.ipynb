{
  "nbformat": 4,
  "nbformat_minor": 0,
  "metadata": {
    "colab": {
      "provenance": []
    },
    "kernelspec": {
      "name": "python3",
      "display_name": "Python 3"
    },
    "language_info": {
      "name": "python"
    }
  },
  "cells": [
    {
      "cell_type": "code",
      "execution_count": null,
      "metadata": {
        "id": "CqmrQ6kiVCNq"
      },
      "outputs": [],
      "source": [
        "import torch\n",
        "from torchvision.models.detection import fasterrcnn_resnet50_fpn\n",
        "from torchvision.transforms import functional as F\n",
        "from PIL import Image, ImageDraw\n",
        "\n",
        "# Load the pre-trained Faster R-CNN model\n",
        "model = fasterrcnn_resnet50_fpn(pretrained=True)\n",
        "model.eval()\n",
        "\n",
        "# Load and preprocess the image\n",
        "image_path = 'img.jpeg'\n",
        "image = Image.open(image_path).convert(\"RGB\")\n",
        "image_tensor = F.to_tensor(image)\n",
        "\n",
        "# Make predictions\n",
        "outputs = model([image_tensor])\n",
        "\n",
        "# Get the predicted bounding boxes, labels, and scores\n",
        "boxes = outputs[0]['boxes'].detach().numpy()\n",
        "labels = outputs[0]['labels'].detach().numpy()\n",
        "scores = outputs[0]['scores'].detach().numpy()\n",
        "\n",
        "# Set the threshold for object detection scores\n",
        "threshold = 0.7\n",
        "\n",
        "# Filter out detections below the threshold\n",
        "filtered_boxes = boxes[scores >= threshold]\n",
        "filtered_labels = labels[scores >= threshold]\n",
        "filtered_scores = scores[scores >= threshold]\n",
        "\n",
        "# Print the filtered bounding boxes, labels, and scores\n",
        "for box, label, score in zip(filtered_boxes, filtered_labels, filtered_scores):\n",
        "    print('Label:', label)\n",
        "    print('Score:', score)\n",
        "    print('Box:', box)\n",
        "\n",
        "# Visualize the filtered bounding boxes\n",
        "image_with_boxes = image.copy()\n",
        "draw = ImageDraw.Draw(image_with_boxes)\n",
        "for box, label in zip(filtered_boxes, filtered_labels):\n",
        "    draw.rectangle([(box[0], box[1]), (box[2], box[3])], outline='red')\n",
        "    draw.text((box[0], box[1]), str(label), fill='red')\n",
        "image_with_boxes.show()\n"
      ]
    }
  ]
}
