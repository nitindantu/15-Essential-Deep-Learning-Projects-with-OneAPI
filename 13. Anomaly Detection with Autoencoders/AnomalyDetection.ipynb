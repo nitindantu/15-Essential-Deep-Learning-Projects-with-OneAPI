{
 "cells": [
  {
   "cell_type": "code",
   "execution_count": 2,
   "id": "89f2574f-3278-414c-9e7e-b3b75200ee21",
   "metadata": {},
   "outputs": [
    {
     "name": "stdout",
     "output_type": "stream",
     "text": [
      "Epoch 1/10\n",
      "7121/7121 [==============================] - 7s 873us/step - loss: 0.6444 - val_loss: 0.5496\n",
      "Epoch 2/10\n",
      "7121/7121 [==============================] - 6s 883us/step - loss: 0.5296 - val_loss: 0.5162\n",
      "Epoch 3/10\n",
      "7121/7121 [==============================] - 6s 845us/step - loss: 0.5055 - val_loss: 0.4961\n",
      "Epoch 4/10\n",
      "7121/7121 [==============================] - 6s 838us/step - loss: 0.4899 - val_loss: 0.5007\n",
      "Epoch 5/10\n",
      "7121/7121 [==============================] - 6s 830us/step - loss: 0.4778 - val_loss: 0.4685\n",
      "Epoch 6/10\n",
      "7121/7121 [==============================] - 6s 810us/step - loss: 0.4654 - val_loss: 0.4583\n",
      "Epoch 7/10\n",
      "7121/7121 [==============================] - 6s 855us/step - loss: 0.4576 - val_loss: 0.4553\n",
      "Epoch 8/10\n",
      "7121/7121 [==============================] - 6s 860us/step - loss: 0.4524 - val_loss: 0.4487\n",
      "Epoch 9/10\n",
      "7121/7121 [==============================] - 6s 866us/step - loss: 0.4472 - val_loss: 0.4456\n",
      "Epoch 10/10\n",
      "7121/7121 [==============================] - 6s 851us/step - loss: 0.4441 - val_loss: 0.4431\n",
      "1781/1781 [==============================] - 1s 552us/step\n"
     ]
    },
    {
     "data": {
      "image/png": "[encoded data removed]",
      "text/plain": [
       "<Figure size 432x288 with 1 Axes>"
      ]
     },
     "metadata": {
      "needs_background": "light"
     },
     "output_type": "display_data"
    },
    {
     "name": "stdout",
     "output_type": "stream",
     "text": [
      "Accuracy: 0.994399775288789\n"
     ]
    }
   ],
   "source": [
    "import numpy as np\n",
    "import pandas as pd\n",
    "import matplotlib.pyplot as plt\n",
    "from sklearn.model_selection import train_test_split\n",
    "from sklearn.preprocessing import StandardScaler\n",
    "from keras.models import Sequential\n",
    "from keras.layers import Dense\n",
    "\n",
    "# Load the dataset\n",
    "data = pd.read_csv(\"creditcard.csv\")\n",
    "\n",
    "# Split the data into features and labels\n",
    "X = data.drop(\"Class\", axis=1).values\n",
    "y = data[\"Class\"].values\n",
    "\n",
    "# Split the data into training and testing sets\n",
    "X_train, X_test, y_train, y_test = train_test_split(X, y, test_size=0.2, random_state=42)\n",
    "\n",
    "# Scale the input features\n",
    "scaler = StandardScaler()\n",
    "X_train = scaler.fit_transform(X_train)\n",
    "X_test = scaler.transform(X_test)\n",
    "\n",
    "# Define the Autoencoder model\n",
    "model = Sequential()\n",
    "model.add(Dense(16, input_shape=(X_train.shape[1],), activation=\"relu\"))\n",
    "model.add(Dense(8, activation=\"relu\"))\n",
    "model.add(Dense(16, activation=\"relu\"))\n",
    "model.add(Dense(X_train.shape[1]))\n",
    "\n",
    "# Compile the model\n",
    "model.compile(optimizer=\"adam\", loss=\"mse\")\n",
    "\n",
    "# Train the model\n",
    "history = model.fit(X_train, X_train, epochs=10, batch_size=32, validation_data=(X_test, X_test))\n",
    "\n",
    "# Predict the reconstructed samples\n",
    "reconstructed = model.predict(X_test)\n",
    "\n",
    "# Compute the reconstruction error\n",
    "mse = np.mean(np.power(X_test - reconstructed, 2), axis=1)\n",
    "\n",
    "# Plot the reconstruction error distribution\n",
    "plt.hist(mse, bins=50)\n",
    "plt.xlabel(\"Reconstruction Error\")\n",
    "plt.ylabel(\"Count\")\n",
    "plt.title(\"Reconstruction Error Distribution\")\n",
    "plt.show()\n",
    "\n",
    "# Set a threshold for anomaly detection\n",
    "threshold = np.mean(mse) + 3 * np.std(mse)\n",
    "\n",
    "# Classify the samples as normal or anomaly\n",
    "predictions = np.where(mse > threshold, 1, 0)\n",
    "\n",
    "# Evaluate the model\n",
    "accuracy = np.mean(predictions == y_test)\n",
    "print(\"Accuracy:\", accuracy)\n"
   ]
  },
  {
   "cell_type": "code",
   "execution_count": null,
   "id": "d8ce1276-a88d-4ac3-8413-9ea90c47048a",
   "metadata": {},
   "outputs": [],
   "source": []
  }
 ],
 "metadata": {
  "kernelspec": {
   "display_name": "Python 3 (ipykernel)",
   "language": "python",
   "name": "python3"
  },
  "language_info": {
   "codemirror_mode": {
    "name": "ipython",
    "version": 3
   },
   "file_extension": ".py",
   "mimetype": "text/x-python",
   "name": "python",
   "nbconvert_exporter": "python",
   "pygments_lexer": "ipython3",
   "version": "3.9.12"
  }
 },
 "nbformat": 4,
 "nbformat_minor": 5
}
