{
  "nbformat": 4,
  "nbformat_minor": 0,
  "metadata": {
    "colab": {
      "provenance": []
    },
    "kernelspec": {
      "name": "python3",
      "display_name": "Python 3"
    },
    "language_info": {
      "name": "python"
    }
  },
  "cells": [
    {
      "cell_type": "code",
      "execution_count": 7,
      "metadata": {
        "colab": {
          "base_uri": "https://localhost:8080/"
        },
        "id": "MkwqdE6beiRe",
        "outputId": "5bcc955a-4c0e-4a95-d55e-42f3faa7fc9a"
      },
      "outputs": [
        {
          "output_type": "stream",
          "name": "stdout",
          "text": [
            "AI-driven chatbots and virtual assistants are also transforming patient engagement and support, providing instant access to medical information and guidance. This enables healthcare professionals to make more informed decisions and provide personalized treatment plans. AI-powered systems can analyze vast amounts of medical data, such as patient records, lab results, and medical images, to identify patterns and make accurate predictions. \n",
            "Artificial Intelligence (AI) is revolutionizing the healthcare industry by offering innovative solutions to improve patient care, diagnostics, and treatment outcomes. \n"
          ]
        },
        {
          "output_type": "stream",
          "name": "stderr",
          "text": [
            "[nltk_data] Downloading package punkt to /root/nltk_data...\n",
            "[nltk_data]   Package punkt is already up-to-date!\n",
            "[nltk_data] Downloading package stopwords to /root/nltk_data...\n",
            "[nltk_data]   Package stopwords is already up-to-date!\n"
          ]
        }
      ],
      "source": [
        "import nltk\n",
        "from nltk.corpus import stopwords\n",
        "from nltk.tokenize import sent_tokenize\n",
        "from nltk.stem import PorterStemmer\n",
        "from sklearn.feature_extraction.text import TfidfVectorizer\n",
        "from sklearn.metrics.pairwise import cosine_similarity\n",
        "\n",
        "nltk.download('punkt')\n",
        "nltk.download('stopwords')\n",
        "\n",
        "def preprocess_text(text):\n",
        "    # Tokenize the text into sentences\n",
        "    sentences = sent_tokenize(text)\n",
        "\n",
        "    # Preprocess each sentence\n",
        "    processed_sentences = []\n",
        "    stop_words = set(stopwords.words('english'))\n",
        "    stemmer = PorterStemmer()\n",
        "\n",
        "    for sentence in sentences:\n",
        "        # Remove special characters and convert to lowercase\n",
        "        sentence = sentence.lower()\n",
        "        sentence = ''.join(c for c in sentence if c.isalnum() or c.isspace())\n",
        "\n",
        "        # Tokenize the sentence into words\n",
        "        words = sentence.split()\n",
        "\n",
        "        # Remove stopwords and perform stemming\n",
        "        words = [stemmer.stem(word) for word in words if word not in stop_words]\n",
        "\n",
        "        # Join the words back into a sentence\n",
        "        processed_sentence = ' '.join(words)\n",
        "        processed_sentences.append(processed_sentence)\n",
        "\n",
        "    return processed_sentences\n",
        "\n",
        "def generate_summary(text, num_sentences=3):\n",
        "    # Preprocess the text\n",
        "    processed_sentences = preprocess_text(text)\n",
        "\n",
        "    # Create the TF-IDF matrix\n",
        "    vectorizer = TfidfVectorizer()\n",
        "    tfidf_matrix = vectorizer.fit_transform(processed_sentences)\n",
        "\n",
        "    # Calculate the similarity matrix\n",
        "    similarity_matrix = cosine_similarity(tfidf_matrix)\n",
        "\n",
        "    # Rank the sentences using TextRank algorithm\n",
        "    scores = {}\n",
        "    for i in range(len(similarity_matrix)):\n",
        "        scores[i] = sum(similarity_matrix[i])\n",
        "\n",
        "    # Sort the sentences based on scores\n",
        "    ranked_sentences = sorted(scores, key=scores.get, reverse=True)\n",
        "\n",
        "    # Generate the summary\n",
        "    summary = ''\n",
        "    for i in range(num_sentences):\n",
        "        summary += sent_tokenize(text)[ranked_sentences[i]] + ' '\n",
        "\n",
        "    return summary\n",
        "\n",
        "# Example usage\n",
        "text = '''\n",
        "Artificial Intelligence (AI) is revolutionizing the healthcare industry by offering innovative solutions to improve patient care, diagnostics, and treatment outcomes.\n",
        "AI-powered systems can analyze vast amounts of medical data, such as patient records, lab results, and medical images, to identify patterns and make accurate predictions. \n",
        "This enables healthcare professionals to make more informed decisions and provide personalized treatment plans. Additionally, AI algorithms can assist in early disease detection, helping to identify potential risks and intervene at an early stage. \n",
        "AI-driven chatbots and virtual assistants are also transforming patient engagement and support, providing instant access to medical information and guidance. \n",
        "Despite the numerous benefits, there are challenges to overcome, including data privacy, ethics, and regulatory considerations.\n",
        "'''\n",
        "\n",
        "summary = generate_summary(text, num_sentences=4)\n",
        "print(summary)\n"
      ]
    },
    {
      "cell_type": "code",
      "source": [],
      "metadata": {
        "id": "1Og6cqRbepO_"
      },
      "execution_count": null,
      "outputs": []
    }
  ]
}