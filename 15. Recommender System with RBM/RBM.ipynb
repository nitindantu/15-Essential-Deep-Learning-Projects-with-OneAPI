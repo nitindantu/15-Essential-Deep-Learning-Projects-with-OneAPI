{
  "nbformat": 4,
  "nbformat_minor": 0,
  "metadata": {
    "colab": {
      "provenance": []
    },
    "kernelspec": {
      "name": "python3",
      "display_name": "Python 3"
    },
    "language_info": {
      "name": "python"
    }
  },
  "cells": [
    {
      "cell_type": "code",
      "execution_count": null,
      "metadata": {
        "id": "D10ej3m4_q5I"
      },
      "outputs": [],
      "source": [
        "import numpy as np\n",
        "from sklearn.neural_network import BernoulliRBM\n",
        "\n",
        "# Load the MovieLens 1M dataset\n",
        "data_path = 'ml-1m'\n",
        "\n",
        "# Load the ratings data\n",
        "ratings_data = np.loadtxt(data_path + '/ratings.dat', delimiter='::', dtype=np.int32)\n",
        "\n",
        "# Extract the user and movie IDs\n",
        "user_ids = ratings_data[:, 0]\n",
        "movie_ids = ratings_data[:, 1]\n",
        "\n",
        "# Normalize the ratings between 0 and 1\n",
        "ratings = ratings_data[:, 2] / 5.0\n",
        "\n",
        "# Determine the number of users and movies\n",
        "num_users = int(np.max(user_ids)) + 1\n",
        "num_movies = int(np.max(movie_ids)) + 1\n",
        "\n",
        "# Create the user-movie matrix\n",
        "user_movie_matrix = np.zeros((num_users, num_movies))\n",
        "\n",
        "# Fill in the user-movie matrix with ratings\n",
        "for i in range(len(user_ids)):\n",
        "    user_id = int(user_ids[i])\n",
        "    movie_id = int(movie_ids[i])\n",
        "    rating = ratings[i]\n",
        "    user_movie_matrix[user_id, movie_id] = rating\n",
        "\n",
        "# Define the RBM model\n",
        "rbm = BernoulliRBM(n_components=100, n_iter=10, learning_rate=0.01, random_state=42)\n",
        "\n",
        "# Train the RBM model\n",
        "rbm.fit(user_movie_matrix)\n",
        "\n",
        "# Generate recommendations for a specific user\n",
        "user_id = 10\n",
        "user_ratings = user_movie_matrix[user_id]\n",
        "reconstructed_ratings = rbm.gibbs(user_ratings)\n",
        "\n",
        "# Get the top recommended movies\n",
        "top_movies = np.argsort(reconstructed_ratings)[::-1][:10]\n",
        "\n",
        "# Print the top recommended movies\n",
        "for movie_id in top_movies:\n",
        "    print(\"Movie ID:\", movie_id)\n",
        "    # Print movie details (e.g., title, genre, etc.) from the MovieLens 1M dataset\n"
      ]
    }
  ]
}