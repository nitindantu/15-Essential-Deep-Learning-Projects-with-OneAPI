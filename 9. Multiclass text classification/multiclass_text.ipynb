{
  "nbformat": 4,
  "nbformat_minor": 0,
  "metadata": {
    "colab": {
      "provenance": []
    },
    "kernelspec": {
      "name": "python3",
      "display_name": "Python 3"
    },
    "language_info": {
      "name": "python"
    }
  },
  "cells": [
    {
      "cell_type": "code",
      "execution_count": 2,
      "metadata": {
        "colab": {
          "base_uri": "https://localhost:8080/"
        },
        "id": "0UmY6nPQP_Aq",
        "outputId": "533c8539-ad84-4d72-f339-86183aad1ec1"
      },
      "outputs": [
        {
          "output_type": "stream",
          "name": "stdout",
          "text": [
            "Downloading data from https://storage.googleapis.com/tensorflow/tf-keras-datasets/reuters.npz\n",
            "2110848/2110848 [==============================] - 0s 0us/step\n",
            "Epoch 1/10\n",
            "281/281 [==============================] - 73s 242ms/step - loss: 2.2301 - accuracy: 0.4260 - val_loss: 1.8414 - val_accuracy: 0.5307\n",
            "Epoch 2/10\n",
            "281/281 [==============================] - 69s 245ms/step - loss: 1.7589 - accuracy: 0.5479 - val_loss: 1.6933 - val_accuracy: 0.5708\n",
            "Epoch 3/10\n",
            "281/281 [==============================] - 68s 241ms/step - loss: 1.5943 - accuracy: 0.5975 - val_loss: 1.5581 - val_accuracy: 0.6140\n",
            "Epoch 4/10\n",
            "281/281 [==============================] - 68s 242ms/step - loss: 1.3860 - accuracy: 0.6523 - val_loss: 1.4976 - val_accuracy: 0.6264\n",
            "Epoch 5/10\n",
            "281/281 [==============================] - 68s 243ms/step - loss: 1.2029 - accuracy: 0.6927 - val_loss: 1.3680 - val_accuracy: 0.6558\n",
            "Epoch 6/10\n",
            "281/281 [==============================] - 75s 265ms/step - loss: 1.0285 - accuracy: 0.7356 - val_loss: 1.3104 - val_accuracy: 0.6625\n",
            "Epoch 7/10\n",
            "281/281 [==============================] - 69s 246ms/step - loss: 0.8833 - accuracy: 0.7704 - val_loss: 1.3150 - val_accuracy: 0.6754\n",
            "Epoch 8/10\n",
            "281/281 [==============================] - 69s 246ms/step - loss: 0.7544 - accuracy: 0.8086 - val_loss: 1.3354 - val_accuracy: 0.6799\n",
            "Epoch 9/10\n",
            "281/281 [==============================] - 68s 241ms/step - loss: 0.6412 - accuracy: 0.8358 - val_loss: 1.2897 - val_accuracy: 0.7026\n",
            "Epoch 10/10\n",
            "281/281 [==============================] - 73s 259ms/step - loss: 0.5460 - accuracy: 0.8607 - val_loss: 1.3458 - val_accuracy: 0.7030\n",
            "71/71 [==============================] - 6s 82ms/step - loss: 1.3458 - accuracy: 0.7030\n",
            "Test Loss: 1.3457703590393066\n",
            "Test Accuracy: 0.703027606010437\n"
          ]
        }
      ],
      "source": [
        "import numpy as np\n",
        "from keras.models import Sequential\n",
        "from keras.layers import LSTM, Dense, Embedding\n",
        "from keras.utils import pad_sequences\n",
        "from keras.datasets import reuters\n",
        "from keras.utils import to_categorical\n",
        "\n",
        "# Set random seed for reproducibility\n",
        "np.random.seed(42)\n",
        "\n",
        "# Load the Reuters dataset\n",
        "max_features = 5000  # Number of most frequent words to keep\n",
        "maxlen = 100  # Maximum sequence length\n",
        "(X_train, y_train), (X_test, y_test) = reuters.load_data(num_words=max_features)\n",
        "\n",
        "# Pad sequences to a fixed length\n",
        "X_train = pad_sequences(X_train, maxlen=maxlen)\n",
        "X_test = pad_sequences(X_test, maxlen=maxlen)\n",
        "\n",
        "# Convert labels to one-hot encoded vectors\n",
        "num_classes = np.max(y_train) + 1\n",
        "y_train = to_categorical(y_train, num_classes)\n",
        "y_test = to_categorical(y_test, num_classes)\n",
        "\n",
        "# Build the LSTM model\n",
        "model = Sequential()\n",
        "model.add(Embedding(max_features, 128, input_length=maxlen))\n",
        "model.add(LSTM(128))\n",
        "model.add(Dense(num_classes, activation='softmax'))\n",
        "\n",
        "# Compile the model\n",
        "model.compile(loss='categorical_crossentropy', optimizer='adam', metrics=['accuracy'])\n",
        "\n",
        "# Train the model\n",
        "batch_size = 32\n",
        "epochs = 10\n",
        "model.fit(X_train, y_train, batch_size=batch_size, epochs=epochs, validation_data=(X_test, y_test))\n",
        "\n",
        "# Evaluate the model\n",
        "loss, accuracy = model.evaluate(X_test, y_test)\n",
        "print(\"Test Loss:\", loss)\n",
        "print(\"Test Accuracy:\", accuracy)\n"
      ]
    },
    {
      "cell_type": "code",
      "source": [],
      "metadata": {
        "id": "2qUmuF-UQqWQ"
      },
      "execution_count": null,
      "outputs": []
    }
  ]
}