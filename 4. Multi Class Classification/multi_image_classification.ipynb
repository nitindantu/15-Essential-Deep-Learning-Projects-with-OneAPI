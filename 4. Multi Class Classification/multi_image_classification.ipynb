{
  "nbformat": 4,
  "nbformat_minor": 0,
  "metadata": {
    "colab": {
      "provenance": []
    },
    "kernelspec": {
      "name": "python3",
      "display_name": "Python 3"
    },
    "language_info": {
      "name": "python"
    }
  },
  "cells": [
    {
      "cell_type": "code",
      "execution_count": null,
      "metadata": {
        "colab": {
          "base_uri": "https://localhost:8080/"
        },
        "id": "pfph6BmHRVrq",
        "outputId": "943a0b45-df44-4d41-ee22-a1c22756e5f4"
      },
      "outputs": [
        {
          "output_type": "stream",
          "name": "stdout",
          "text": [
            "Downloading data from https://www.cs.toronto.edu/~kriz/cifar-10-python.tar.gz\n",
            "170498071/170498071 [==============================] - 3s 0us/step\n",
            "Epoch 1/10\n",
            "704/704 [==============================] - 71s 99ms/step - loss: 1.6207 - accuracy: 0.4084 - val_loss: 1.3392 - val_accuracy: 0.5142\n",
            "Epoch 2/10\n",
            "704/704 [==============================] - 68s 97ms/step - loss: 1.2587 - accuracy: 0.5518 - val_loss: 1.1441 - val_accuracy: 0.6018\n",
            "Epoch 3/10\n",
            "704/704 [==============================] - 71s 101ms/step - loss: 1.0975 - accuracy: 0.6138 - val_loss: 1.1219 - val_accuracy: 0.6164\n",
            "Epoch 4/10\n",
            "704/704 [==============================] - 68s 96ms/step - loss: 0.9998 - accuracy: 0.6483 - val_loss: 1.0173 - val_accuracy: 0.6426\n",
            "Epoch 5/10\n",
            "704/704 [==============================] - 69s 97ms/step - loss: 0.9289 - accuracy: 0.6714 - val_loss: 0.9366 - val_accuracy: 0.6772\n",
            "Epoch 6/10\n",
            "704/704 [==============================] - 67s 96ms/step - loss: 0.8661 - accuracy: 0.6956 - val_loss: 1.0207 - val_accuracy: 0.6526\n",
            "Epoch 7/10\n",
            "704/704 [==============================] - 70s 99ms/step - loss: 0.8216 - accuracy: 0.7130 - val_loss: 0.8594 - val_accuracy: 0.7032\n",
            "Epoch 8/10\n",
            "704/704 [==============================] - 70s 100ms/step - loss: 0.7709 - accuracy: 0.7306 - val_loss: 0.8524 - val_accuracy: 0.7100\n",
            "Epoch 9/10\n",
            "704/704 [==============================] - 69s 97ms/step - loss: 0.7397 - accuracy: 0.7398 - val_loss: 0.8585 - val_accuracy: 0.7072\n",
            "Epoch 10/10\n",
            "704/704 [==============================] - 69s 98ms/step - loss: 0.7002 - accuracy: 0.7577 - val_loss: 0.8750 - val_accuracy: 0.6978\n",
            "313/313 [==============================] - 4s 14ms/step - loss: 0.9231 - accuracy: 0.6850\n",
            "Test loss: 0.923149585723877\n",
            "Test accuracy: 0.6850000023841858\n"
          ]
        }
      ],
      "source": [
        "import numpy as np\n",
        "import tensorflow as tf\n",
        "from tensorflow import keras\n",
        "from tensorflow.keras import layers\n",
        "\n",
        "# Load and preprocess the data\n",
        "(x_train, y_train), (x_test, y_test) = keras.datasets.cifar10.load_data()\n",
        "x_train = x_train.astype(\"float32\") / 255.0\n",
        "x_test = x_test.astype(\"float32\") / 255.0\n",
        "\n",
        "# Convert class vectors to binary class matrices (one-hot encoding)\n",
        "num_classes = 10\n",
        "y_train = keras.utils.to_categorical(y_train, num_classes)\n",
        "y_test = keras.utils.to_categorical(y_test, num_classes)\n",
        "\n",
        "# Define the model architecture\n",
        "model = keras.Sequential([\n",
        "    layers.Conv2D(32, (3, 3), activation='relu', input_shape=(32, 32, 3)),\n",
        "    layers.MaxPooling2D((2, 2)),\n",
        "    layers.Conv2D(64, (3, 3), activation='relu'),\n",
        "    layers.MaxPooling2D((2, 2)),\n",
        "    layers.Conv2D(64, (3, 3), activation='relu'),\n",
        "    layers.Flatten(),\n",
        "    layers.Dense(64, activation='relu'),\n",
        "    layers.Dense(num_classes, activation='softmax')\n",
        "])\n",
        "\n",
        "# Compile the model\n",
        "model.compile(optimizer='adam',\n",
        "              loss='categorical_crossentropy',\n",
        "              metrics=['accuracy'])\n",
        "\n",
        "# Train the model\n",
        "model.fit(x_train, y_train, batch_size=64, epochs=10, validation_split=0.1)\n",
        "\n",
        "# Evaluate the model on test data\n",
        "test_loss, test_acc = model.evaluate(x_test, y_test)\n",
        "print(\"Test loss:\", test_loss)\n",
        "print(\"Test accuracy:\", test_acc)\n"
      ]
    },
    {
      "cell_type": "code",
      "source": [],
      "metadata": {
        "id": "D_H3lSO0RZUd"
      },
      "execution_count": null,
      "outputs": []
    },
    {
      "cell_type": "markdown",
      "source": [
        "In this code, we're using the CIFAR-10 dataset, which consists of 50,000 training images and 10,000 test images belonging to 10 different classes. The code loads the dataset, preprocesses the images by normalizing pixel values, and performs one-hot encoding on the class labels.\n",
        "\n",
        "Next, we define the model architecture using the Sequential API from Keras. The model consists of several convolutional layers, max pooling layers, and fully connected layers. The final layer uses the softmax activation function to output class probabilities for each image.\n",
        "\n",
        "We then compile the model by specifying the optimizer, loss function, and evaluation metric. In this example, we use the Adam optimizer, categorical cross-entropy loss, and accuracy as the evaluation metric.\n",
        "\n",
        "After compiling the model, we train it using the training data with a batch size of 64 and for 10 epochs. We also use 10% of the training data as a validation set for monitoring the model's performance during training.\n",
        "\n",
        "Finally, we evaluate the trained model on the test data and print the test loss and accuracy."
      ],
      "metadata": {
        "id": "3JF9egfGRh3l"
      }
    },
    {
      "cell_type": "code",
      "source": [],
      "metadata": {
        "id": "qBdT_5_BRi32"
      },
      "execution_count": null,
      "outputs": []
    }
  ]
}